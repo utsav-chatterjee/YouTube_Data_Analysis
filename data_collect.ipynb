{
 "cells": [
  {
   "cell_type": "markdown",
   "metadata": {},
   "source": [
    "<h4>Importing the Google API library</h4>\n",
    "We could just import the whole module \"import googleapiclient\" but we know we won't use all the other modules, so we only import the required module to save on processing overhead. "
   ]
  },
  {
   "cell_type": "code",
   "execution_count": 170,
   "metadata": {},
   "outputs": [],
   "source": [
    "from googleapiclient.discovery import build"
   ]
  },
  {
   "cell_type": "markdown",
   "metadata": {},
   "source": [
    "<h4>Parsing YouTube API key</h4>\n",
    "API keys are private to users and to avoid exposing the key in our notebook here, we created a separate text file (youtube.cred) and saved the API key in it. In our code below, we open the file in \"read\" mode and store the value of the first line of the file into a variable called first_line. As we know the string to the right side of the \"=\" is the key, we split the line by \"=\" and use index 1 to store the key in variable youtube_api_key."
   ]
  },
  {
   "cell_type": "code",
   "execution_count": 171,
   "metadata": {},
   "outputs": [],
   "source": [
    "with open('youtube.cred', 'r') as credentials_file:\n",
    "    first_line = credentials_file.readline()\n",
    "    youtube_api_key = first_line.split(\"=\")[1].strip()\n",
    "# print(youtube_api_key)"
   ]
  },
  {
   "cell_type": "markdown",
   "metadata": {},
   "source": [
    "<h4>Connecting to YouTube</h4>\n",
    "The build function is an inbuilt function provided by the YouTube API. It accepts 3 parameters - in the first parameter we specify that we are using the API for youtube; in the second parameter we specify the version of the API we are using, i.e. v3 in this case; in the third parameter we specify that the developerKey = the value stored in our variable youtube_api_key. "
   ]
  },
  {
   "cell_type": "code",
   "execution_count": 172,
   "metadata": {},
   "outputs": [],
   "source": [
    "youtube=build('youtube','v3',developerKey=youtube_api_key)"
   ]
  },
  {
   "cell_type": "markdown",
   "metadata": {},
   "source": [
    "<h4>How do lists work?</h4>"
   ]
  },
  {
   "cell_type": "code",
   "execution_count": 183,
   "metadata": {},
   "outputs": [
    {
     "data": {
      "text/plain": [
       "1"
      ]
     },
     "execution_count": 183,
     "metadata": {},
     "output_type": "execute_result"
    }
   ],
   "source": [
    "list_1 = [1,2,3,4,5,6,7]\n",
    "list_1[0]\n",
    "\n",
    "for x in range(0,len(list_1)):\n",
    "    print(list_1[x])\n",
    "    \n",
    "    "
   ]
  },
  {
   "cell_type": "markdown",
   "metadata": {},
   "source": [
    "<h4>How do dictionaries work?</h4>"
   ]
  },
  {
   "cell_type": "code",
   "execution_count": 192,
   "metadata": {},
   "outputs": [
    {
     "name": "stdout",
     "output_type": "stream",
     "text": [
      "a --> 1\n",
      "b --> 2\n",
      "c --> 3\n"
     ]
    }
   ],
   "source": [
    "dict_1 = {'a':'1', 'b':'2', 'c':'3'}\n",
    "\n",
    "# dict_1['a']\n",
    "\n",
    "for k,v in dict_1.items():\n",
    "    print(k,\"-->\", v)"
   ]
  },
  {
   "cell_type": "markdown",
   "metadata": {},
   "source": [
    "<h4>Searching by string</h4>\n",
    "We provide a search string and process the data returned by the API. \n",
    "We parse the output data and focus just on the statistics part of the results. "
   ]
  },
  {
   "cell_type": "code",
   "execution_count": 202,
   "metadata": {},
   "outputs": [
    {
     "name": "stdout",
     "output_type": "stream",
     "text": [
      "UCZnVzwB9Gb6raFtwOTqsf7w | 2011-01-05T09:55:23.000Z | Virgin Media Help\n",
      "UCk5x7Wgt-AF7iufECMWQyMQ | 2017-07-20T22:52:29.000Z | Virgin Media Business Help\n",
      "UCxIu_KFesgE3SBE24PZj4bw | 2014-05-20T09:43:21.000Z | Virgin Media\n",
      "UCBBV2ZkUCXK8ziBa77bU8uw | 2010-01-26T17:23:11.000Z | Virgin Media Business\n",
      "UCY4c7e72ef5crGnlayWXyRQ | 2014-06-24T19:06:43.000Z | Virgin Media Business 30/30 Vision\n",
      "UCZpuK3DHBkZpwPCSZwI2IUw | 2008-07-15T09:31:44.000Z | Silicon Republic\n",
      "UC0rQ3YOBTmxTHSqdvYdnOiQ | 2008-05-12T18:35:41.000Z | Virgin Holidays\n",
      "UC116j0HBqGjvCFIDyUGR2Fw | 2011-05-29T11:35:05.000Z | Virgin Media Corporate\n",
      "UCOSggYNBgW5dP24PmvGbKgg | 2012-07-16T08:10:13.000Z | Virgin\n",
      "UCbJRX_w-RZaVr08jjEO10zg | 2014-11-29T11:52:28.000Z | BT Help Line\n",
      "UCkitABalXafr-NqceQdDXtg | 2013-01-23T00:26:28.000Z | TVFilthyFrank\n",
      "UC9jpWhLL36llg1gvesoNlMw | 2009-09-10T15:46:42.000Z | JJ Virgin\n",
      "UC7IcJI8PUf5Z3zKxnZvTBog | 2010-05-18T16:46:57.000Z | The School of Life\n",
      "UCeHILuUwWmHDQqbocxUvVoA | 2014-06-08T22:06:38.000Z | TheCod3r Tutorials\n",
      "UC7Gf2tZ8coTX2ckTPgn62iQ | 2010-07-07T09:40:22.000Z | DisneyJuniorUK\n",
      "UCG7RIhIzwqTX3QOOJE6_SMw | 2009-07-21T12:35:33.000Z | HalfbrickVHS\n",
      "UCOnxBhEzhvmnie23Jmhs_JA | 2011-10-06T11:26:14.000Z | Virgin Trains\n",
      "UCvwgfsD0OaWx0HJRExrE6uQ | 2013-06-17T22:10:59.000Z | Kate Bush - Topic\n",
      "UCNWgR1TUgF1owFa1L43dmbQ | 2010-01-24T18:37:16.000Z | dontdissmiss\n",
      "UCBXckvTm2VHU29BUoKJizvA | 2016-01-11T14:27:50.000Z | disguise\n",
      "UCF-YMiwXUH5HV0Mq1_BVWow | 2011-12-04T21:40:57.000Z | Karl Melvin Psychotherapy\n",
      "UCGynl3QOQV4ufARXcbivnxQ | 2017-03-07T14:03:19.000Z | HDSecure CCTV\n",
      "UC7ToNBwzoGCJE9fpjyYGfZQ | 2016-07-27T22:32:38.000Z | NETER GOLD\n",
      "UCmfffZfNgIgk5xK3PYnmQUA | 2014-11-05T17:17:36.000Z | UKTV\n",
      "UCpsjw7g2b8NXTOd7WKEtpvA | 2007-01-21T02:45:11.000Z | UK Base Gaming & Tech\n",
      "UC73sA3eOzYembKiKv5RieFw | 2012-12-02T20:00:53.000Z | ZAKHARCHUK PRESENTS\n",
      "UCaeBMqqCIJ9temb_PjjJ3Ew | 2014-10-27T12:49:46.000Z | Bristol TV\n",
      "UCVFYikepF-avelvuIaQ_lHA | 2009-07-16T18:57:38.000Z | Popcornflix\n",
      "UCgBjYThF0KXWV5O4Th4uVNQ | 2005-09-25T21:22:53.000Z | FOX TV UK\n",
      "UC5brUJj7UggTXstJGINWEsA | 2011-12-08T21:45:40.000Z | Ales Jones\n",
      "UCCQT60W4n_GZuDcY6K_y3rA | 2008-06-17T15:57:18.000Z | Racing TV\n",
      "UCjewxGh1Gx5i5Uzxn0v-TPw | 2016-03-16T23:28:12.000Z | The Punk Rock MBA\n",
      "UCrbtAxkt6OchrtptImf-DXw | 2013-12-20T20:15:57.000Z | Disney Channel - Topic\n",
      "UCdAmUxtzbCWgMBRWVHtZEEg | 2012-09-24T13:47:23.000Z | Regenersis Plc\n",
      "UCNbTiEReZJDQwUNjpNYZ97A | 2014-04-15T08:30:43.000Z | Internet Matters\n",
      "UCFuXMN42K2upumQHKiWZ_aQ | 2007-03-26T11:45:05.000Z | Paradise Decay\n",
      "UCiL26LEtX3EGisPCXYSGuBw | 2010-03-08T10:31:30.000Z | Voom Pioneers\n",
      "UCww3iT-_b9hjO6ZOztR-VZg | 2018-09-22T20:22:26.000Z | Vargin Media\n",
      "UCFIEZ9BbrD4SHXb_eNOAM2g | 2016-08-21T14:17:16.000Z | Virgin Mobile UAE\n",
      "UCqOoboPm3uhY_YXhvhmL-WA | 2006-12-13T22:16:55.000Z | Discovery\n",
      "UCl4bfZPzmpkm-24sXyz_3xw | 2016-10-27T10:10:04.000Z | The British Speedtest\n",
      "UCjFFQsVahQV9d0Xbw2lKcnQ | 2006-04-08T22:32:30.000Z | yahoohelp\n",
      "UCexjApxCp3sCEHZu4M33iOg | 2017-08-08T21:34:10.000Z | Burstimo\n",
      "UCH3v-NvNtwmFFmK5PVGzkQg | 2007-11-22T22:18:30.000Z | Simon Lowe\n",
      "UCYeC_aXpGltYDeZt0PAuw6g | 2010-09-30T21:34:28.000Z | Clifford Sage\n",
      "UCcAZz_uGJt7LctmWyVeIgaQ | 2009-06-17T15:21:49.000Z | P&MM Ltd\n",
      "UCFw8hkUFki3CrPowjmW9PxA | 2012-10-07T17:16:59.000Z | mentoreurope\n",
      "UC5eOjsAJ0YSWZiJlmxHY4bQ | 2013-02-15T17:05:04.000Z | Magellan Branded\n",
      "UCg_OAKXxVFEDHwT0wGxsbVg | 2015-03-19T20:14:15.000Z | Remove Unfair Debt\n",
      "UCbh8MxbSJHTkh6y__Ug6f9A | 2010-09-20T10:37:28.000Z | KMTV Made for Kent\n"
     ]
    }
   ],
   "source": [
    "search_response = dict(youtube.search().list(\n",
    "    q=\"Virgin Media Help\",\n",
    "    type=\"channel\",\n",
    "    order = \"relevance\",\n",
    "    part=\"id,snippet\", \n",
    "    maxResults=50).execute())\n",
    "\n",
    "# print(search_response)\n",
    "\n",
    "# for k, v in search_response.items():\n",
    "#       print(k,\"|||||||\",v)\n",
    "\n",
    "for x in range(0,len(search_response['items'])):    \n",
    "    channelId = search_response['items'][x]['id']['channelId']\n",
    "    publishedAt = search_response['items'][x]['snippet']['publishedAt']\n",
    "    title = search_response['items'][x]['snippet']['channelTitle']\n",
    "    print(channelId, \"|\", publishedAt, \"|\", title)\n",
    "\n",
    "# print(search_response['items'])\n",
    "\n",
    "# print(search_response['items'][0])\n",
    "\n",
    "\n"
   ]
  },
  {
   "cell_type": "markdown",
   "metadata": {},
   "source": [
    "<h4>Channel Statistics</h4>\n",
    "We provide the channel ID and search for data provided by the API. \n",
    "We parse the output data and focus just on the statistics part of the results. \n",
    "In case the channel id is not easily visible in the address bar of the browser, go to page source and search for \"externalId\". The value for it will be the channel ID. "
   ]
  },
  {
   "cell_type": "code",
   "execution_count": 213,
   "metadata": {
    "scrolled": false
   },
   "outputs": [
    {
     "data": {
      "text/plain": [
       "{'viewCount': '2311414',\n",
       " 'commentCount': '0',\n",
       " 'subscriberCount': '9180',\n",
       " 'hiddenSubscriberCount': False,\n",
       " 'videoCount': '114'}"
      ]
     },
     "execution_count": 213,
     "metadata": {},
     "output_type": "execute_result"
    }
   ],
   "source": [
    "channelId='UCZnVzwB9Gb6raFtwOTqsf7w'\n",
    "statdata=youtube.channels().list(part='statistics',id=channelId).execute()\n",
    "statdata\n",
    "dict_channel_stats=statdata['items'][0]['statistics']\n",
    "dict_channel_stats"
   ]
  },
  {
   "cell_type": "markdown",
   "metadata": {},
   "source": [
    "<h4>Get Playlist ID from channel</h4>"
   ]
  },
  {
   "cell_type": "code",
   "execution_count": 214,
   "metadata": {},
   "outputs": [
    {
     "data": {
      "text/plain": [
       "{'kind': 'youtube#channelListResponse',\n",
       " 'etag': '\"xwzn9fn_LczrfK9QS3iZcGzqRGs/h8fwhsoABYL2hRLx06-jPZtXmbw\"',\n",
       " 'pageInfo': {'totalResults': 1, 'resultsPerPage': 1},\n",
       " 'items': [{'kind': 'youtube#channel',\n",
       "   'etag': '\"xwzn9fn_LczrfK9QS3iZcGzqRGs/-hXXBqOLs8Joci4E-UVcJn0y664\"',\n",
       "   'id': 'UCZnVzwB9Gb6raFtwOTqsf7w',\n",
       "   'contentDetails': {'relatedPlaylists': {'uploads': 'UUZnVzwB9Gb6raFtwOTqsf7w',\n",
       "     'watchHistory': 'HL',\n",
       "     'watchLater': 'WL'}}}]}"
      ]
     },
     "execution_count": 214,
     "metadata": {},
     "output_type": "execute_result"
    }
   ],
   "source": [
    "request = youtube.channels().list(part='contentDetails',id=channelId,\n",
    "                                   maxResults=50)\n",
    "response = request.execute()\n",
    "response"
   ]
  },
  {
   "cell_type": "markdown",
   "metadata": {},
   "source": [
    "<h4>Get List of Videos from Paylist ID</h4>"
   ]
  },
  {
   "cell_type": "code",
   "execution_count": 216,
   "metadata": {},
   "outputs": [
    {
     "name": "stdout",
     "output_type": "stream",
     "text": [
      "_HP5SuNDwdA | Installing your TV V6 box, Hub 3 0 & phone  - Virgin Media QuickStart | 2020-03-20T11:38:07.000Z\n",
      "7DJAV027M-Y | Upgrading Fibre to Hub 3.0  - Virgin Media QuickStart | 2020-03-20T11:38:11.000Z\n",
      "9ApTpq1kFj8 | Installing your Hub 3.0 -  Virgin Media QuickStart | 2020-03-20T11:38:17.000Z\n",
      "lxdC9XaGR38 | Upgrading TV to the Virgin TV V6 box - Virgin Media QuickStart | 2020-03-20T11:38:22.000Z\n",
      "2LkDBISyHlA | Upgrading Fibre & TV to Hub 3.0 & Virgin TV V6 box - Virgin Media QuickStart | 2020-03-20T11:38:27.000Z\n",
      "vpz2cjHnQTA | Virgin TV: Master of Entertainment | 2020-03-20T11:40:04.000Z\n",
      "bBGpKLQ8diY | SIM Swap Overview - Virgin Media | 2020-01-30T16:51:06.000Z\n",
      "oppy4c11F10 | How to swap your Virgin Media SIM | 2020-01-30T16:51:11.000Z\n",
      "N7cimv8ORcQ | Virgin Media SIM swap - Unlocking code tips | 2020-01-30T16:51:15.000Z\n",
      "iB50uNByhek | Virgin Media SIM swap - Backing up your contacts | 2020-01-30T16:51:23.000Z\n",
      "B3-GCuwxPyw | How to scan for WiFi blackspots with Connect App | Virgin Media | 2019-11-05T18:31:47.000Z\n",
      "vDW1oq-RnT0 | How to set up the Connect App for a WiFi boost | Virgin Media | 2019-11-05T18:31:47.000Z\n",
      "UbNYZLjaxzg | How to improve WiFi signal & order Boosters with Connect App | Virgin Media | 2019-11-05T18:31:47.000Z\n",
      "3in4QY6LAMA | Meet Family plan from Virgin Mobile | 2019-11-18T16:12:41.000Z\n",
      "NFJemdPSWI0 | Switching to Virgin Mobile | 2019-06-28T08:45:16.000Z\n",
      "jX0S0x0AIKc | Virgin WiFi Win #2. Scan for WiFi blackspots with Connect app | 2019-08-29T11:58:10.000Z\n",
      "iO4FnruX6MQ | Intelligent WiFi: Designed to deliver our most reliable WiFi | 2019-08-29T10:05:58.000Z\n",
      "z54EQ79ABmk | Need a hand if Connect app can’t fix | Virgin Media | 2019-08-29T11:58:15.000Z\n",
      "gdNdTdsQ8C8 | Total control of your WiFi with Connect app | Virgin Media | 2019-08-29T11:58:27.000Z\n",
      "j1x4uJ7O8aQ | Our Intelligent WiFi system optimises itself | Virgin Media | 2019-08-29T11:58:32.000Z\n",
      "WpNhczWh49w | Virgin TV: Brilliant Beginner | 2019-06-03T09:00:20.000Z\n",
      "yjA0QqUD1aU | Virgin TV: Up and coming expert | 2019-06-03T09:00:19.000Z\n",
      "lRyNzDBqzyY | Virgin WiFi Win #3 | Give your home WiFi a boost | 2019-03-20T17:25:54.000Z\n",
      "K5zZMELntj0 | Virgin WiFi Win #1| Find your Hub's happy place | 2019-03-20T17:27:30.000Z\n",
      "ei6ar-OHVPU | How to Scan for WiFi Black spots with Connect App Virgin Media | 2019-03-11T21:00:51.000Z\n",
      "QLztuLPYCZQ | How to set up the Connect App for a WiFi boost | Virgin Media | 2019-03-11T21:00:51.000Z\n",
      "IJVXq9YcCo8 | Introduction to Virgin Media QuickStart | 2019-03-11T21:00:50.000Z\n",
      "lexXQGJtvpo | Get ready for your Virgin Media installation | 2019-03-11T21:00:51.000Z\n",
      "ue3UtwK3fg4 | Virgin Fibre | Brilliant Beginner | 2019-03-11T21:00:50.000Z\n",
      "EOieKJvaVP8 | Virgin Fibre | Master of Entertainment | 2019-03-11T21:00:50.000Z\n",
      "5T6UtMY1Hu8 | Virgin Fibre | Up and coming expert | 2019-03-11T21:00:51.000Z\n",
      "ZPIL5zK58QU | Total control of your WiFi with Connect app | Virgin Media | 2019-03-11T21:00:51.000Z\n",
      "6VYL8W2Ry1Q | Our most reliable WiFi | Virgin Media | 2019-03-11T21:00:50.000Z\n",
      "Kn6T2tNV1TU | How to Control Live TV with Virgin TV V6 box | 2019-02-22T00:12:09.000Z\n",
      "e01sZdxhMYc | How to do Box to Box Streaming on Virgin TV V6 box | 2019-02-22T00:12:09.000Z\n",
      "kSd4Z1fQsgw | How to Watch Live TV on your Virgin V6 box | 2019-02-22T00:12:12.000Z\n",
      "L-wZlAqlCo0 | How to Set Up and change Series Link+ on Virgin TV V6 box | 2019-02-22T00:12:09.000Z\n",
      "JhlYyOOCohM | How to Record Upcoming Shows on Virgin TV V6 box | 2019-02-22T00:12:09.000Z\n",
      "D-qwyKpvbBo | How to Use Catch Up on Virgin TV V6 box | 2019-02-22T00:12:10.000Z\n",
      "gphO5M9aOac | How to Find your Shows on Virgin TV V6 box | 2019-02-22T00:12:10.000Z\n",
      "WbLbxv6kH4A | How to Watch Shows On Demand on Virgin TV V6 box | 2019-02-22T00:12:09.000Z\n",
      "Famncm7IOhQ | How to Search for a Show on Virgin TV V6 box | 2019-02-22T00:12:09.000Z\n",
      "LdrkZxIWZKI | How to Browse for a Show on Virgin TV V6 box | 2019-02-22T00:12:09.000Z\n",
      "eSloQ7y6xkk | Programming your Virgin TV V6/TiVo remote to control your TV | 2019-02-15T14:48:56.000Z\n",
      "CnCrA_5cTh4 | How to set up Spending Caps using your Virgin Mobile app | 2018-09-25T10:28:04.000Z\n",
      "3atWpPrkOm0 | Setting up Spending Caps on your Virgin Mobile phone | 2018-09-25T10:28:04.000Z\n",
      "v9dLWGxixwE | Changing Virgin Media Web Safe Settings on Desktop/Laptop | 2018-05-17T10:21:33.000Z\n",
      "Sce83GBugn4 | Using Web Safe with Virgin Media | 2018-05-16T12:36:11.000Z\n",
      "qT93fyTK9JM | My Virgin Media | 2018-03-12T17:09:48.000Z\n",
      "bLvC7JVIiVY | Virgin Phone: Brilliant Beginner | 2018-03-12T17:09:47.000Z\n"
     ]
    }
   ],
   "source": [
    "res = youtube.playlistItems().list(playlistId='UUZnVzwB9Gb6raFtwOTqsf7w', \n",
    "                                   part='snippet',\n",
    "                                   maxResults=50).execute()\n",
    "\n",
    "# res\n",
    "\n",
    "for i in range(0,len(list(res['items']))):\n",
    "    video_publishedAt = res['items'][i]['snippet']['publishedAt']\n",
    "    video_title = res['items'][i]['snippet']['title']\n",
    "    video_id = res['items'][i]['snippet']['resourceId']['videoId']\n",
    "    print(video_id, \"|\", video_title, \"|\", video_publishedAt)\n",
    "\n"
   ]
  },
  {
   "cell_type": "markdown",
   "metadata": {},
   "source": [
    "<h4>Video Statistics</h4>"
   ]
  },
  {
   "cell_type": "code",
   "execution_count": 217,
   "metadata": {},
   "outputs": [
    {
     "data": {
      "text/plain": [
       "{'kind': 'youtube#video',\n",
       " 'etag': '\"xwzn9fn_LczrfK9QS3iZcGzqRGs/K1ycf9sgKvC4NgQUjgZ88IUhCns\"',\n",
       " 'id': 'e01sZdxhMYc',\n",
       " 'snippet': {'publishedAt': '2019-02-22T00:12:09.000Z',\n",
       "  'channelId': 'UCZnVzwB9Gb6raFtwOTqsf7w',\n",
       "  'title': 'How to do Box to Box Streaming on Virgin TV V6 box',\n",
       "  'description': \"Want to start watching a show in your living room, pause it and pick up where you left off in bed? \\n\\nWith Virgin TV V6 box you can stream your recordings around the home and watch them on your other Virgin TV boxes, your mobile or tablet. Here's how.\",\n",
       "  'thumbnails': {'default': {'url': 'https://i.ytimg.com/vi/e01sZdxhMYc/default.jpg',\n",
       "    'width': 120,\n",
       "    'height': 90},\n",
       "   'medium': {'url': 'https://i.ytimg.com/vi/e01sZdxhMYc/mqdefault.jpg',\n",
       "    'width': 320,\n",
       "    'height': 180},\n",
       "   'high': {'url': 'https://i.ytimg.com/vi/e01sZdxhMYc/hqdefault.jpg',\n",
       "    'width': 480,\n",
       "    'height': 360},\n",
       "   'standard': {'url': 'https://i.ytimg.com/vi/e01sZdxhMYc/sddefault.jpg',\n",
       "    'width': 640,\n",
       "    'height': 480},\n",
       "   'maxres': {'url': 'https://i.ytimg.com/vi/e01sZdxhMYc/maxresdefault.jpg',\n",
       "    'width': 1280,\n",
       "    'height': 720}},\n",
       "  'channelTitle': 'Virgin Media Help',\n",
       "  'tags': ['virgin tv',\n",
       "   'virgin v6 tv',\n",
       "   'virgin streaming',\n",
       "   'box to box streaming',\n",
       "   'virgin media tv',\n",
       "   'virgin tv streaming'],\n",
       "  'categoryId': '26',\n",
       "  'liveBroadcastContent': 'none',\n",
       "  'localized': {'title': 'How to do Box to Box Streaming on Virgin TV V6 box',\n",
       "   'description': \"Want to start watching a show in your living room, pause it and pick up where you left off in bed? \\n\\nWith Virgin TV V6 box you can stream your recordings around the home and watch them on your other Virgin TV boxes, your mobile or tablet. Here's how.\"},\n",
       "  'defaultAudioLanguage': 'en'},\n",
       " 'contentDetails': {'duration': 'PT1M40S',\n",
       "  'dimension': '2d',\n",
       "  'definition': 'hd',\n",
       "  'caption': 'false',\n",
       "  'licensedContent': False,\n",
       "  'projection': 'rectangular'},\n",
       " 'status': {'uploadStatus': 'processed',\n",
       "  'privacyStatus': 'public',\n",
       "  'license': 'youtube',\n",
       "  'embeddable': True,\n",
       "  'publicStatsViewable': False,\n",
       "  'madeForKids': False},\n",
       " 'statistics': {'viewCount': '8374', 'favoriteCount': '0'}}"
      ]
     },
     "execution_count": 217,
     "metadata": {},
     "output_type": "execute_result"
    }
   ],
   "source": [
    "video_stats = youtube.videos().list(\n",
    "                part='statistics,snippet,contentDetails,status',\n",
    "                id='e01sZdxhMYc').execute()\n",
    "\n",
    "video_stats['items'][0]"
   ]
  }
 ],
 "metadata": {
  "kernelspec": {
   "display_name": "Python 3",
   "language": "python",
   "name": "python3"
  },
  "language_info": {
   "codemirror_mode": {
    "name": "ipython",
    "version": 3
   },
   "file_extension": ".py",
   "mimetype": "text/x-python",
   "name": "python",
   "nbconvert_exporter": "python",
   "pygments_lexer": "ipython3",
   "version": "3.7.6"
  }
 },
 "nbformat": 4,
 "nbformat_minor": 4
}
